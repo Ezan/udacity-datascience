{
 "cells": [
  {
   "cell_type": "code",
   "execution_count": null,
   "id": "39bfd7b3",
   "metadata": {},
   "outputs": [
    {
     "ename": "",
     "evalue": "",
     "output_type": "error",
     "traceback": [
      "\u001b[1;31mJupyter cannot be started. Error attempting to locate jupyter: Running cells with 'Python 3.9.7 64-bit ('.myenv': venv)' requires jupyter and notebook package.\n",
      "Run the following command to install 'jupyter and notebook' into the Python environment. \n",
      "Command: 'conda install -n base jupyter notebook'"
     ]
    }
   ],
   "source": [
    "print('hellow owrld')"
   ]
  },
  {
   "cell_type": "code",
   "execution_count": null,
   "id": "edc1565d",
   "metadata": {},
   "outputs": [],
   "source": [
    "print('cest dyfla')"
   ]
  },
  {
   "cell_type": "code",
   "execution_count": null,
   "id": "61f1c29c",
   "metadata": {},
   "outputs": [],
   "source": []
  }
 ],
 "metadata": {
  "kernelspec": {
   "display_name": "Python 3 (ipykernel)",
   "language": "python",
   "name": "python3"
  },
  "language_info": {
   "codemirror_mode": {
    "name": "ipython",
    "version": 3
   },
   "file_extension": ".py",
   "mimetype": "text/x-python",
   "name": "python",
   "nbconvert_exporter": "python",
   "pygments_lexer": "ipython3",
   "version": "3.9.7"
  }
 },
 "nbformat": 4,
 "nbformat_minor": 5
}
